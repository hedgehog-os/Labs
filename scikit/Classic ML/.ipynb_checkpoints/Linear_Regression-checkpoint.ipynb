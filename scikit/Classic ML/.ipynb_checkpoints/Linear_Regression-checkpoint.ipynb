{
 "cells": [
  {
   "cell_type": "code",
   "execution_count": 81,
   "id": "b3a3042d-8c00-434b-a0ba-4e3769f337a9",
   "metadata": {},
   "outputs": [],
   "source": [
    "from statistics import mean\n",
    "import numpy as np\n",
    "import matplotlib.pyplot as plt\n",
    "import random"
   ]
  },
  {
   "cell_type": "markdown",
   "id": "53200d93-7768-47ef-b741-4cd429ef7000",
   "metadata": {},
   "source": [
    "# Creating data"
   ]
  },
  {
   "cell_type": "code",
   "execution_count": 82,
   "id": "ce94d1fb-a9c7-41b7-a8ff-77efd60c5dc1",
   "metadata": {},
   "outputs": [],
   "source": [
    "def create_dataset(points, variance, step=2, correlation=True):\n",
    "    val = 1\n",
    "    y_train = []\n",
    "    for i in range(points):\n",
    "        y = val + random.randrange(-variance, variance)\n",
    "        y_train.append(y)\n",
    "        if correlation:\n",
    "            val += step\n",
    "        elif not correlation:\n",
    "            val -= step\n",
    "    X_train = [i for i in range(len(y_train))]\n",
    "    return np.array(X_train), np.array(y_train)\n",
    "    \n",
    "X_train, y_train = create_dataset(50, 20, 2)"
   ]
  },
  {
   "cell_type": "markdown",
   "id": "63975b73-c928-41ce-b722-61bc2510ec80",
   "metadata": {},
   "source": [
    "# Implement fitting of linear regression and squared error"
   ]
  },
  {
   "cell_type": "code",
   "execution_count": 83,
   "id": "35604dcc-226c-4be9-ac85-1ecf10937389",
   "metadata": {},
   "outputs": [],
   "source": [
    "def fit_linear_regression(X_train, y_train):\n",
    "    m = (mean(X_train * mean(y_train)) - mean(X_train * y_train)) / (mean(X_train)**2 - mean(X_train**2))\n",
    "    b = mean(y_train) - m * mean(X_train)\n",
    "    return m, b\n",
    "\n",
    "def squared_error(y, y_line):\n",
    "    return sum((y - y_line)**2)\n",
    "\n",
    "def coefficient_of_determination(y, y_line):\n",
    "    y_mean_line = [mean(y) for _ in y]\n",
    "    squared_error_regression_line = squared_error(y, y_line)\n",
    "    squared_errory_mean = squared_error(y, y_mean_line)\n",
    "    return 1 - (squared_error_regression_line / squared_errory_mean)"
   ]
  },
  {
   "cell_type": "markdown",
   "id": "d5c84e46-9e89-410d-b2e5-cf3c4cf2a8a6",
   "metadata": {},
   "source": [
    "# Fit linear regression"
   ]
  },
  {
   "cell_type": "code",
   "execution_count": 84,
   "id": "4ff3b234-9289-4d9a-bcd6-b10b07ecbb05",
   "metadata": {},
   "outputs": [
    {
     "name": "stdout",
     "output_type": "stream",
     "text": [
      "1.7413793103448276 9.206896551724135\n"
     ]
    }
   ],
   "source": [
    "m, b = fit_linear_regression(X_train, y_train)\n",
    "print(m, b)"
   ]
  },
  {
   "cell_type": "markdown",
   "id": "0b7d8512-6719-493b-b90c-a619eb0dd12a",
   "metadata": {},
   "source": [
    "# Regression line"
   ]
  },
  {
   "cell_type": "code",
   "execution_count": 85,
   "id": "bf43c5c9-dbb3-440e-9f58-5f5ddcad38f0",
   "metadata": {},
   "outputs": [],
   "source": [
    "regression_line = [m * x + b for x in X_train]"
   ]
  },
  {
   "cell_type": "markdown",
   "id": "8f9329da-5fbe-4914-9cfb-cf24d017aaca",
   "metadata": {},
   "source": [
    "# Evaluate squared error"
   ]
  },
  {
   "cell_type": "code",
   "execution_count": 86,
   "id": "539112be-3d88-412e-b98d-6ab956460f08",
   "metadata": {},
   "outputs": [
    {
     "name": "stdout",
     "output_type": "stream",
     "text": [
      "0.8704904726021284\n"
     ]
    }
   ],
   "source": [
    "r_squared = coefficient_of_determination(y_train, regression_line)\n",
    "print(r_squared)"
   ]
  },
  {
   "cell_type": "markdown",
   "id": "174a2174-def0-4489-848d-68870b2606fd",
   "metadata": {},
   "source": [
    "# Predicting"
   ]
  },
  {
   "cell_type": "code",
   "execution_count": 87,
   "id": "185fe5a8-e207-4a6d-a9ea-40b8d1d1eaeb",
   "metadata": {},
   "outputs": [
    {
     "name": "stdout",
     "output_type": "stream",
     "text": [
      "16.172413793103445\n"
     ]
    }
   ],
   "source": [
    "X_pred = 4\n",
    "y_pred = m * X_pred + b\n",
    "print(y_pred)"
   ]
  },
  {
   "cell_type": "markdown",
   "id": "105127f8-482c-47f1-9e4f-fc9ab255a972",
   "metadata": {},
   "source": [
    "# Charts"
   ]
  },
  {
   "cell_type": "code",
   "execution_count": 88,
   "id": "5066e632-8597-4d97-a7bc-753a631015a5",
   "metadata": {},
   "outputs": [
    {
     "data": {
      "image/png": "[encoded data removed]",
      "text/plain": [
       "<Figure size 640x480 with 1 Axes>"
      ]
     },
     "metadata": {},
     "output_type": "display_data"
    }
   ],
   "source": [
    "plt.scatter(X_train, y_train)\n",
    "plt.scatter(X_pred, y_pred, color='g')\n",
    "plt.plot(X_train, regression_line)\n",
    "plt.show()"
   ]
  },
  {
   "cell_type": "code",
   "execution_count": null,
   "id": "f0d50a2d-4db7-49d9-8f91-41eb587a44d3",
   "metadata": {},
   "outputs": [],
   "source": []
  }
 ],
 "metadata": {
  "kernelspec": {
   "display_name": "ai-env",
   "language": "python",
   "name": "ai-env"
  },
  "language_info": {
   "codemirror_mode": {
    "name": "ipython",
    "version": 3
   },
   "file_extension": ".py",
   "mimetype": "text/x-python",
   "name": "python",
   "nbconvert_exporter": "python",
   "pygments_lexer": "ipython3",
   "version": "3.12.3"
  }
 },
 "nbformat": 4,
 "nbformat_minor": 5
}
